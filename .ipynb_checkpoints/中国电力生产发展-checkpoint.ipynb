{
 "cells": [
  {
   "cell_type": "markdown",
   "metadata": {},
   "source": [
    "# 中国电力生产发展\n",
    "### by 10165101180 张宏伟"
   ]
  },
  {
   "cell_type": "code",
   "execution_count": 1,
   "metadata": {},
   "outputs": [],
   "source": [
    "import numpy as np\n",
    "import matplotlib\n",
    "import matplotlib.pyplot as plt\n",
    "import matplotlib.animation as animation\n",
    "import pandas as pd"
   ]
  },
  {
   "cell_type": "markdown",
   "metadata": {},
   "source": [
    "## 可选后端\n",
    "1. 新建窗口展示动图\n",
    "%matplotlib qt5\n",
    "2. 嵌入式\n",
    "%matplotlib inline \n",
    "3. 弹出的可交互式\n",
    "%matplotlib notebook"
   ]
  },
  {
   "cell_type": "markdown",
   "metadata": {},
   "source": [
    "## 0. 因为图比较大，选择弹出式后端"
   ]
  },
  {
   "cell_type": "code",
   "execution_count": 2,
   "metadata": {},
   "outputs": [],
   "source": [
    "%matplotlib qt5"
   ]
  },
  {
   "cell_type": "markdown",
   "metadata": {},
   "source": [
    "## 1. 1995-2016 我国电力生产发展曲线图"
   ]
  },
  {
   "cell_type": "code",
   "execution_count": 3,
   "metadata": {},
   "outputs": [],
   "source": [
    "data = pd.read_csv('data/ChinaElectricityConsists.csv')\n",
    "columns = ['Fossil-fuel','Water','Wind','Nuclear']"
   ]
  },
  {
   "cell_type": "markdown",
   "metadata": {},
   "source": [
    "### 1.1 画图"
   ]
  },
  {
   "cell_type": "code",
   "execution_count": 8,
   "metadata": {},
   "outputs": [
    {
     "data": {
      "text/plain": [
       "Text(2010.15, 60000, '三峡水电站最后一台水电机组投产')"
      ]
     },
     "execution_count": 8,
     "metadata": {},
     "output_type": "execute_result"
    }
   ],
   "source": [
    "from pylab import *\n",
    "# 因为没找到1991-1994的数据，删除掉1990年的数据，保留1995-2016\n",
    "data_96_16 = data[~(data['Year']==1990)]\n",
    "colors = ['red','blue','cyan','gold']\n",
    "# 添加事件点标记\n",
    "plt.figure()\n",
    "# 设置名称\n",
    "plt.title('China Annual Electricity Production', fontsize=16)\n",
    "plt.xlabel('Time', fontsize=16)\n",
    "plt.ylabel('Production / Billion kWh', fontsize=16)\n",
    "plt.xticks(rotation=35, fontsize=12)\n",
    "plt.yticks(range(0,70000,5000), fontsize=12)\n",
    "plt.axis([1995,2016,0,65000])\n",
    "ax = plt.gca()\n",
    "ax.locator_params('x', nbins=21)\n",
    "# 填充数据\n",
    "polys = plt.stackplot(data_96_16['Year'], data_96_16[columns].values.T, colors=colors)\n",
    "# 设置网格\n",
    "plt.grid(color='r', linestyle='--', linewidth=1,alpha=0.1)\n",
    "#设置图例\n",
    "rectangles = []\n",
    "for poly in polys:\n",
    "    rectangles.append(plt.Rectangle((0,0), 1, 1, fc=poly.get_facecolor()[0]))\n",
    "rev_rectangles = reversed(rectangles)\n",
    "rev_columns = reversed(columns)\n",
    "legend = plt.legend(rev_rectangles, rev_columns, loc=2)\n",
    "frame = legend.get_frame()\n",
    "# 事件标记\n",
    "annotate(\"已有核电\", (1995,10077), xycoords='data', xytext=(1995,15000), arrowprops=dict(arrowstyle='->'), fontproperties=\"SimSun\", fontsize=12)\n",
    "annotate(\"九五计划开始\", (1995,8043), xycoords='data', xytext=(1995,1000), arrowprops=dict(arrowstyle='->'), fontproperties=\"SimSun\", fontsize=12)\n",
    "annotate(\"十五计划开始\", (2000,11142), xycoords='data', xytext=(1999.25,5000), arrowprops=dict(arrowstyle='->'), fontproperties=\"SimSun\", fontsize=12)\n",
    "annotate(\"电力供需紧张\", (2002,13273.8), xycoords='data', xytext=(2001.25,5000), arrowprops=dict(arrowstyle='->'), fontproperties=\"SimSun\", fontsize=12)\n",
    "annotate(\"三峡水电站开始发电\", (2003.4,18940), xycoords='data', xytext=(2002.31, 30000), arrowprops=dict(arrowstyle='->'), fontproperties=\"SimSun\", fontsize=12)\n",
    "annotate(\"十一五计划开始\", (2005,20473), xycoords='data', xytext=(2004.15,5000), arrowprops=dict(arrowstyle='->'), fontproperties=\"SimSun\", fontsize=12)\n",
    "annotate(\"大批发电机组投产\", (2007,27229.3), xycoords='data', xytext=(2006.05,5000), arrowprops=dict(arrowstyle='->'), fontproperties=\"SimSun\", fontsize=12)\n",
    "annotate(\"风力发电开始计入\", (2010,40541), xycoords='data', xytext=(2009, 55000), arrowprops=dict(arrowstyle='->'), fontproperties=\"SimSun\", fontsize=12)\n",
    "annotate(\"三峡水电站最后一台水电机组投产\", (2012,47649), xycoords='data', xytext=(2010.15, 60000), arrowprops=dict(arrowstyle='->'), fontproperties=\"SimSun\", fontsize=12)"
   ]
  },
  {
   "cell_type": "markdown",
   "metadata": {},
   "source": [
    "### 1.2 分析\n",
    "1. 我国第一座核电站秦山核电站1991年开始投入\n",
    "2. 进入“九五”以后，为促进电力工业提高效率和设备的升级换代，我国相继出台了限制小火电机组发展、关停小型凝汽式火电机组、以大代小等一系列电源结构调整方针和政策；97年电力工业全国电力供需基本平衡，部分地区供大于求，为关停小火电机组创造有利条件。\n",
    "3. 三峡水电站2003年开始投入使用\n",
    "4. “十五”期间，我国电力供应紧张，小火电机组淘汰步伐放缓。“十五”中后期，2002年-2005年，我国经济高速增长，GDP年均增长率超过两位数，电力供需形势趋紧，保证电力应成为首要任务，使得关停小火电工作推迟或放缓，各级地方政府更是借机大力兴建（或改建小火电）\n",
    "5. 2006-2007年，十一五期间，一大批大型发电机组相继投产，全国电力供需矛盾全面缓解；\n",
    "6. 2008年发电放缓，个人猜测是08年金融危机波及制造业\n",
    "7. 2010年风力发电开始计入\n",
    "8. 2012年三峡水电站最后一台水电机组投产"
   ]
  },
  {
   "cell_type": "markdown",
   "metadata": {},
   "source": [
    "## 2. 1990-2015 每五年电力生产类型比例变化"
   ]
  },
  {
   "cell_type": "markdown",
   "metadata": {},
   "source": [
    "### 2.1 画图"
   ]
  },
  {
   "cell_type": "code",
   "execution_count": 9,
   "metadata": {
    "scrolled": true
   },
   "outputs": [
    {
     "data": {
      "text/plain": [
       "Text(0.5, 1.0, '2015')"
      ]
     },
     "execution_count": 9,
     "metadata": {},
     "output_type": "execute_result"
    }
   ],
   "source": [
    "# 画1990-2015 5年为间隔的6个饼状图\n",
    "\n",
    "data_pie = data.set_index('Year').T[[1990, 1995, 2000, 2005, 2010, 2015]]\n",
    "\n",
    "fig = plt.figure()\n",
    "fig.suptitle('the Rate of Electricity Production', fontsize=16)\n",
    "\n",
    "explode = [0.1,0.1,0.1,0.1]\n",
    "colors = ['red','royalblue','cyan','gold']\n",
    "\n",
    "plt.subplot(231)\n",
    "pie(x=data_pie[1990].values[0:2], explode=explode[0:2], labels=columns[:2], autopct='%1.1f%%', colors=colors[0:2])\n",
    "title('1990')\n",
    "plt.subplot(232)\n",
    "pie(x=np.delete(data_pie[1995].values, 2),explode=explode[0:3], labels=('Fossil-fuel','Water','Nuclear'), autopct='%1.1f%%', colors=('red','royalblue','gold'))\n",
    "title('1995')\n",
    "plt.subplot(233)\n",
    "pie(x=np.delete(data_pie[2000].values, 2),explode=explode[0:3], labels=('Fossil-fuel','Water','Nuclear'), autopct='%1.1f%%', colors=('red','royalblue','gold'))\n",
    "title('2000')\n",
    "plt.subplot(234)\n",
    "pie(x=np.delete(data_pie[2005].values, 2),explode=explode[0:3], labels=('Fossil-fuel','Water','Nuclear'), autopct='%1.1f%%', colors=('red','royalblue','gold'))\n",
    "title('2005')\n",
    "plt.subplot(235)\n",
    "pie(x=data_pie[2010], explode=explode, labels=columns, autopct='%1.1f%%', colors=colors)\n",
    "title('2010')\n",
    "plt.subplot(236)\n",
    "pie(x=data_pie[2015], explode=explode, labels=columns, autopct='%1.1f%%', colors=colors)\n",
    "title('2015')"
   ]
  },
  {
   "cell_type": "markdown",
   "metadata": {},
   "source": [
    "### 2.2 分析"
   ]
  },
  {
   "cell_type": "markdown",
   "metadata": {},
   "source": [
    "1. 我国核电起步较晚，1991年秦山核电站才开始投入使用\n",
    "2. 如1分析，虽然有时候因为电力供应紧张而不得已放松对火电的要求，但从每五年的目标来看，自2000年来有意调控，火电的占比稳定下降；\n",
    "3. 随着越来越多水电站论证阶段的结束和兴建，水力发电占比逐渐攀升\n",
    "4. 核电和风电占比一直差不多\n",
    "5. 太阳能发电仍未纳入年鉴统计"
   ]
  },
  {
   "cell_type": "markdown",
   "metadata": {},
   "source": [
    "## 3. 2018各省用电情况与大型发电站分布"
   ]
  },
  {
   "cell_type": "markdown",
   "metadata": {},
   "source": [
    "### 3.1 画图"
   ]
  },
  {
   "cell_type": "code",
   "execution_count": 11,
   "metadata": {
    "scrolled": true
   },
   "outputs": [
    {
     "name": "stderr",
     "output_type": "stream",
     "text": [
      "C:\\applications\\anaconda\\envs\\tensorflow\\lib\\site-packages\\ipykernel_launcher.py:9: MatplotlibDeprecationWarning: \n",
      "The dedent function was deprecated in Matplotlib 3.1 and will be removed in 3.3. Use inspect.cleandoc instead.\n",
      "  if __name__ == '__main__':\n",
      "C:\\applications\\anaconda\\envs\\tensorflow\\lib\\site-packages\\ipykernel_launcher.py:10: MatplotlibDeprecationWarning: \n",
      "The dedent function was deprecated in Matplotlib 3.1 and will be removed in 3.3. Use inspect.cleandoc instead.\n",
      "  # Remove the CWD from sys.path while we load stuff.\n",
      "C:\\applications\\anaconda\\envs\\tensorflow\\lib\\site-packages\\ipykernel_launcher.py:11: MatplotlibDeprecationWarning: \n",
      "The dedent function was deprecated in Matplotlib 3.1 and will be removed in 3.3. Use inspect.cleandoc instead.\n",
      "  # This is added back by InteractiveShellApp.init_path()\n"
     ]
    },
    {
     "data": {
      "text/plain": [
       "[<matplotlib.lines.Line2D at 0x22d2bfa6a90>]"
      ]
     },
     "execution_count": 11,
     "metadata": {},
     "output_type": "execute_result"
    }
   ],
   "source": [
    "from mpl_toolkits.basemap import Basemap\n",
    "from matplotlib.patches import Polygon\n",
    "from matplotlib.colors import rgb2hex\n",
    "data_province = pd.read_csv('data/2018ChinaProvinceElectricity.csv')\n",
    "\n",
    "plt.figure(figsize=(16,8))\n",
    "plt.title('全国用电排名', fontproperties=\"SimSun\", fontsize=16)\n",
    "# 兰勃特投影\n",
    "m = Basemap(llcrnrlon=77, llcrnrlat=14, urcrnrlon=140, urcrnrlat=51, projection='lcc', lat_1=33, lat_2=45, lon_0=100)\n",
    "m.readshapefile('data/CHN_adm_shp/CHN_adm1', 'states', drawbounds=True)\n",
    "m.readshapefile('data/TWN_adm_shp/gadm36_TWN_0', 'taiwan', drawbounds=True)\n",
    "# 转置+提取省份前两字\n",
    "data_province['Province'] = data_province.Province.str[:2]\n",
    "data_province.set_index('Province', inplace=True)\n",
    "# 计算各省份用电量所对应的颜色\n",
    "statenames=[]\n",
    "colors={}\n",
    "cmap = plt.cm.YlOrRd\n",
    "vmax = data_province.Total.max()\n",
    "vmin = data_province.Total.min()\n",
    "for shapedict in m.states_info:\n",
    "    statename = shapedict['NL_NAME_1']\n",
    "    p = statename.split('|')\n",
    "    if len(p) > 1:\n",
    "        s = p[1]\n",
    "    else:\n",
    "        s = p[0]\n",
    "    s = s[:2]\n",
    "    if s == '黑龍':\n",
    "        s = '黑龙'\n",
    "    statenames.append(s)\n",
    "    pop = data_province['Total'][s]\n",
    "    colors[s] = cmap(np.sqrt((pop - vmin) / (vmax - vmin)))[:3]\n",
    "# 上色\n",
    "ax = plt.gca()\n",
    "for nshape, seg in enumerate(m.states):\n",
    "    color = rgb2hex(colors[statenames[nshape]])\n",
    "    poly = Polygon(seg, facecolor=color, edgecolor=color)\n",
    "    ax.add_patch(poly)\n",
    "# 打标记\n",
    "# 核电站\n",
    "x, y = m(121.51, 39.71) # 红沿河\n",
    "m.plot(x, y, marker = '^', color = 'magenta')\n",
    "x, y = m(121.446369,37.4645598) # 海阳\n",
    "m.plot(x, y, marker = '^', color = 'magenta')\n",
    "x, y = m(119.4571194,34.6866357) # 田湾\n",
    "m.plot(x, y, marker = '^', color = 'magenta')\n",
    "x, y = m(120.9187844,30.4395263) # 方家山\n",
    "m.plot(x, y, marker = '^', color = 'magenta')\n",
    "x, y = m(120.94, 30.45) # 秦山\n",
    "m.plot(x, y, marker = '^', color = 'magenta')\n",
    "x, y = m(120.9419433,30.5074991) # 三门\n",
    "m.plot(x, y, marker = '^', color = 'magenta')\n",
    "x, y = m(119.504985,26.6511) # 宁德\n",
    "m.plot(x, y, marker = '^', color = 'magenta')\n",
    "x, y = m(119.3521803,25.6989615) # 福清\n",
    "m.plot(x, y, marker = '^', color = 'magenta')\n",
    "x, y = m(114.5250581,22.5902831) # 大亚湾\n",
    "m.plot(x, y, marker = '^', color = 'magenta')\n",
    "x, y = m(114.5537853,22.6208707) # 岭澳\n",
    "m.plot(x, y, marker = '^', color = 'magenta')\n",
    "x, y = m(112.6199749,22.3383834) # 台山\n",
    "m.plot(x, y, marker = '^', color = 'magenta')\n",
    "x, y = m(111.9354129,21.8178781) # 阳江\n",
    "m.plot(x, y, marker = '^', color = 'magenta')\n",
    "x, y = m(108.3501165,21.6339758) # 防城港\n",
    "m.plot(x, y, marker = '^', color = 'magenta')\n",
    "x, y = m(108.6912845,19.2011889) # 昌江\n",
    "m.plot(x, y, marker = '^', color = 'magenta')\n",
    "# 水电站\n",
    "x, y = m(110.7580276,30.503408) # 三峡\n",
    "m.plot(x, y, marker = 'o', color = 'blue')\n",
    "x, y = m(103.6144994,28.2323934) # 溪洛渡\n",
    "m.plot(x, y, marker = 'o', color = 'blue')\n",
    "x, y = m(103.8363274,30.3959823) # 白鹤滩\n",
    "m.plot(x, y, marker = 'o', color = 'blue')\n",
    "x, y = m(102.6053393,26.3179915) # 乌东德\n",
    "m.plot(x, y, marker = 'o', color = 'blue')\n",
    "x, y = m(104.4060504,28.6247034) # 向家坝\n",
    "m.plot(x, y, marker = 'o', color = 'blue')\n",
    "x, y = m(106.3918254,25.0321612) # 龙滩\n",
    "m.plot(x, y, marker = 'o', color = 'blue')\n",
    "x, y = m(100.2530143,22.5780837) # 糯扎渡\n",
    "m.plot(x, y, marker = 'o', color = 'blue')\n",
    "x, y = m(101.4577465,27.762462) # 锦屏二级\n",
    "m.plot(x, y, marker = 'o', color = 'blue')\n",
    "x, y = m(100.1034404,24.9137312) # 小湾\n",
    "m.plot(x, y, marker = 'o', color = 'blue')\n",
    "x, y = m(101.1828204,36.1170722) # 拉西瓦\n",
    "m.plot(x, y, marker = 'o', color = 'blue')\n",
    "x, y = m(101.03427,26.880112) # 二滩\n",
    "m.plot(x, y, marker = 'o', color = 'blue')\n",
    "# 风电\n",
    "x, y = m(98.3691687,39.7238227) # 酒泉\n",
    "m.plot(x, y, marker = 's', color = 'cyan')\n",
    "x, y = m(87.5231506,43.3392514) # 达坂城区\n",
    "m.plot(x, y, marker = 's', color = 'cyan')\n",
    "x, y = m(112.6368803,41.16331) # 辉腾锡勒\n",
    "m.plot(x, y, marker = 's', color = 'cyan')\n",
    "x, y = m(120.653046,28.598054) # 括苍山\n",
    "m.plot(x, y, marker = 's', color = 'cyan')\n",
    "x, y = m(96.2870397,40.268274) # 玉门\n",
    "m.plot(x, y, marker = 's', color = 'cyan')\n",
    "x, y = m(121.9715923,30.755968) # 东海大桥\n",
    "m.plot(x, y, marker = 's', color = 'cyan')\n",
    "x, y = m(117.0816054,23.4319296) # 南澳\n",
    "m.plot(x, y, marker = 's', color = 'cyan')"
   ]
  },
  {
   "cell_type": "markdown",
   "metadata": {},
   "source": [
    "### 3.2 分析"
   ]
  },
  {
   "cell_type": "markdown",
   "metadata": {},
   "source": [
    "1. 火电因为基本全国范围都分布，所以没有在图中进行标记\n",
    "2. 因为需要根据经纬度对发电站进行标注，不太方便设置图例，紫色为核电；蓝色为水电；青色为风力发电场。\n",
    "2. 从颜色深浅上可知，广东、江苏、山东、浙江都是用电大户\n",
    "3. 水电和风力场受环境影响，属于因地制宜，故大多采取高压输电，而火电和核电则采用运输原料到发电场；\n",
    "4. 水电大多分布在第二级阶梯；陆地风力发电场大多集中在北部，海上风力发电场集中在东南沿海；核电站则因为需要原料少，运输成本较低，大多就近分布在电量消费较大的地方以节省输电成本。"
   ]
  },
  {
   "cell_type": "markdown",
   "metadata": {},
   "source": [
    "## 4.世界各国1990-2016电力生产总量动态图"
   ]
  },
  {
   "cell_type": "markdown",
   "metadata": {},
   "source": [
    "### 4.1 数据格式化"
   ]
  },
  {
   "cell_type": "code",
   "execution_count": 18,
   "metadata": {},
   "outputs": [],
   "source": [
    "# 动态电力产量\n",
    "data_world = pd.read_csv('data/WorldElectricityProduction.csv')\n",
    "data_world.drop(['Commodity - Transaction','Unit','Quantity Footnotes'], axis=1, inplace=True)\n",
    "data_world.columns = ['name','date','value']\n",
    "data_world['type'] = None\n",
    "data_clean = data_world[['name','type','value','date']]\n",
    "data_clean = data_clean.sort_values(by=['name','date'], inplace=True)\n",
    "data_clean = data_clean[~(data_clean['date']==2017)]\n",
    "data_clean.to_csv('data/FormatWorldElectricityProduction.csv',encoding='utf-8')"
   ]
  },
  {
   "cell_type": "markdown",
   "metadata": {},
   "source": [
    "### 4.2 使用github上他人的作品"
   ]
  },
  {
   "cell_type": "markdown",
   "metadata": {},
   "source": [
    "https://github.com/Jannchie/Historical-ranking-data-visualization-based-on-d3.js"
   ]
  },
  {
   "cell_type": "markdown",
   "metadata": {},
   "source": [
    "## ref\n",
    "1. 王淑娜，孙根年：《中国1991年至2007年火力发电-燃煤消耗-SO2排放关系的分析》;陕西师范大学旅游与环境学院\n",
    "2. 桢公子：《电力奇迹》;星球研究所\n",
    "3. 《中国统计年鉴》1999-2018\n",
    "4. https://github.com/Jannchie/Historical-ranking-data-visualization-based-on-d3.js"
   ]
  },
  {
   "cell_type": "markdown",
   "metadata": {},
   "source": [
    "## Tips:\n",
    "1. basemap安装报错解决办法：https://blog.csdn.net/weixin_39278265/article/details/84019778\n",
    "2. ffmpeg安装：https://stackoverflow.com/questions/13316397/matplotlib-animation-no-moviewriters-available"
   ]
  }
 ],
 "metadata": {
  "kernelspec": {
   "display_name": "Python 3",
   "language": "python",
   "name": "python3"
  },
  "language_info": {
   "codemirror_mode": {
    "name": "ipython",
    "version": 3
   },
   "file_extension": ".py",
   "mimetype": "text/x-python",
   "name": "python",
   "nbconvert_exporter": "python",
   "pygments_lexer": "ipython3",
   "version": "3.7.3"
  }
 },
 "nbformat": 4,
 "nbformat_minor": 2
}
